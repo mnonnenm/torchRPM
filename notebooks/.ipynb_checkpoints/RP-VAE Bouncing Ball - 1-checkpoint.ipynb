{
 "cells": [
  {
   "cell_type": "markdown",
   "id": "45ecea28",
   "metadata": {},
   "source": [
    "# Recognition-parametrized Variational autoencoders\n",
    "- $p_\\theta(\\mathcal{X},\\mathcal{Z})$ is a conditionally normalized RPM, whereas $q_\\psi(\\mathcal{Z} | \\mathcal{X})$ is from a jointly normalized RPM\n",
    "\n",
    "- all RPMS conditionally independent !\n",
    "\n",
    "- here application to the Poisson bouncing balls from the AISTATS RPM paper, except that we use a 50-dim. Gaussian instead of the Gaussian process used therein."
   ]
  },
  {
   "cell_type": "code",
   "execution_count": null,
   "id": "e8a6203a",
   "metadata": {},
   "outputs": [],
   "source": [
    "%load_ext autoreload\n",
    "%autoreload 2"
   ]
  },
  {
   "cell_type": "code",
   "execution_count": null,
   "id": "7c2a4e57",
   "metadata": {},
   "outputs": [],
   "source": [
    "import os\n",
    "import torch\n",
    "import numpy as np\n",
    "import matplotlib.pyplot as plt\n",
    "\n",
    "from utils_data_external import linear_regression_1D_latent as regLatent\n",
    "from utils_data_external import plot_poisson_balls\n",
    "import matplotlib.pyplot as plt\n",
    "\n",
    "from exps import init_gaussian_rpm\n",
    "\n",
    "from rpm import RPMEmpiricalMarginals\n",
    "\n",
    "\n",
    "N = 100       \n",
    "rpm_variant = 'amortized'\n",
    "amortize_ivi = 'full'\n",
    "model_seed = 0\n",
    "\n",
    "identifier = rpm_variant + '_' + amortize_ivi + '_N_' + str(N) + '_seed_' + str(model_seed)\n",
    "root = os.curdir\n",
    "res_dir = 'fits'\n",
    "fn_base = os.path.join(res_dir, identifier, identifier)\n",
    "\n",
    "data = torch.tensor(np.load(fn_base + '_data.npy'))\n",
    "true_latent_ext = torch.tensor(np.load(fn_base + '_latents.npy'))\n",
    "\n",
    "exp_dict = np.load(fn_base + '_exp_dict.npz', allow_pickle=True)['arr_0'].tolist()\n",
    "N,J,K,T = exp_dict['N'],exp_dict['J'],exp_dict['K'],exp_dict['T']\n",
    "init_rb_bandwidth = exp_dict['init_rb_bandwidth']\n",
    "ls = np.load(fn_base + '_loss.npy')\n",
    "\n",
    "xjs = [data[:,j] for j in range(J)]\n",
    "pxjs = RPMEmpiricalMarginals(xjs)\n",
    "observations = (torch.stack(xjs, dim=-1),)\n",
    "\n",
    "\n",
    "obs_locs = torch.linspace(0,1,T).reshape(-1,1)\n",
    "model = init_gaussian_rpm(N, J, K, T, pxjs,\n",
    "                        init_rb_bandwidth, obs_locs,\n",
    "                        rpm_variant, amortize_ivi\n",
    "                       )\n",
    "model.load_state_dict(torch.load(fn_base + '_rpm_state_dict'))\n",
    "\n",
    "\n",
    "prior = model.joint_model[1]\n",
    "eta_0 = prior.nat_param\n",
    "if rpm_variant in ['amortized', 'temporal']:    \n",
    "    eta_q, _ = model.comp_eta_q(xjs, eta_0)\n",
    "else: \n",
    "    eta_q = model.comp_eta_q(xjs, idx_data=np.arange(N), eta_0=eta_0)\n",
    "EqtZ = prior.log_partition.nat2meanparam(eta_q)\n",
    "\n",
    "mu = EqtZ[:,:T]\n",
    "sig2 = torch.diagonal(EqtZ[:,T:].reshape(-1,T,T),dim1=-2,dim2=-1) - mu**2\n",
    "\n",
    "latent_true, latent_mean_fit, latent_variance_fit, R2 = regLatent(\n",
    "    latent_true = true_latent_ext,\n",
    "    latent_mean_fit = mu.unsqueeze(-1), \n",
    "    latent_variance_fit = sig2)\n",
    "\n",
    "plt.plot(ls)\n",
    "plt.ylabel('loss')\n",
    "plt.xlabel('epoch')\n",
    "plt.show()\n",
    "\n",
    "plot_poisson_balls(observations, \n",
    "                   obs_locs=obs_locs.squeeze(-1), \n",
    "                   latent_mean_fit=latent_mean_fit.squeeze(-1), \n",
    "                   latent_variance_fit=latent_variance_fit)\n"
   ]
  },
  {
   "cell_type": "code",
   "execution_count": null,
   "id": "0f8f10f6",
   "metadata": {},
   "outputs": [],
   "source": []
  }
 ],
 "metadata": {
  "kernelspec": {
   "display_name": "Python 3 (ipykernel)",
   "language": "python",
   "name": "python3"
  },
  "language_info": {
   "codemirror_mode": {
    "name": "ipython",
    "version": 3
   },
   "file_extension": ".py",
   "mimetype": "text/x-python",
   "name": "python",
   "nbconvert_exporter": "python",
   "pygments_lexer": "ipython3",
   "version": "3.9.12"
  }
 },
 "nbformat": 4,
 "nbformat_minor": 5
}
